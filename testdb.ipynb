{
 "cells": [
  {
   "cell_type": "code",
   "execution_count": 1,
   "metadata": {},
   "outputs": [],
   "source": [
    "import pyodbc"
   ]
  },
  {
   "cell_type": "code",
   "execution_count": 2,
   "metadata": {},
   "outputs": [],
   "source": [
    "conn = pyodbc.connect('Driver={SQL Server};'\n",
    "                      'Server=LAPTOP-OELBU86R\\SQLEXPRESS;'\n",
    "                      'Database=CaptionImage;'\n",
    "                      'Trusted_Connection=yes;')"
   ]
  },
  {
   "cell_type": "code",
   "execution_count": 3,
   "metadata": {},
   "outputs": [],
   "source": [
    "cursor = conn.cursor()"
   ]
  },
  {
   "cell_type": "code",
   "execution_count": 4,
   "metadata": {},
   "outputs": [],
   "source": [
    "id = \"124\"\n",
    "name = \"Linh\"\n",
    "old = 21\n",
    "\n",
    "insert_records = '''INSERT INTO idnameold(id, name, old) VALUES(?,?,?)'''\n",
    "cursor.execute(insert_records, id, name, old)\n",
    "conn.commit()"
   ]
  },
  {
   "cell_type": "code",
   "execution_count": 5,
   "metadata": {},
   "outputs": [],
   "source": [
    "record_1 = [\"111\", \"Chinh\", 21]\n",
    "record_2 = [\"211\", \"Chau\", 22]"
   ]
  },
  {
   "cell_type": "code",
   "execution_count": 6,
   "metadata": {},
   "outputs": [],
   "source": [
    "record_3 = [\"113\", \"Tu\", 23]\n",
    "record_list =[]\n",
    "record_list.append(record_1)\n",
    "record_list.append(record_2)\n",
    "record_list.append(record_3)\n",
    "insert_records = '''INSERT INTO idnameold(id, name, old) VALUES(?,?,?)'''\n",
    "cursor.executemany(insert_records, record_list)\n",
    "conn.commit()"
   ]
  },
  {
   "cell_type": "code",
   "execution_count": 7,
   "metadata": {},
   "outputs": [
    {
     "name": "stdout",
     "output_type": "stream",
     "text": [
      "('124       ', 'Linh      ', 21)\n",
      "('111       ', 'Chinh     ', 21)\n",
      "('211       ', 'Chau      ', 22)\n",
      "('113       ', 'Tu        ', 23)\n"
     ]
    }
   ],
   "source": [
    "select_record = '''SELECT * FROM idnameold'''\n",
    "cursor.execute(select_record)\n",
    "     \n",
    "for row in cursor:\n",
    "    print(row)"
   ]
  },
  {
   "cell_type": "code",
   "execution_count": 13,
   "metadata": {},
   "outputs": [],
   "source": [
    "delete_all_records = '''truncate table idnameold'''\n",
    "cursor.execute(delete_all_records)\n",
    "conn.commit()"
   ]
  },
  {
   "cell_type": "code",
   "execution_count": 11,
   "metadata": {},
   "outputs": [
    {
     "name": "stdout",
     "output_type": "stream",
     "text": [
      "0\n"
     ]
    }
   ],
   "source": [
    "select_record = '''SELECT count(*) FROM idnameold WHERE old=? '''\n",
    "cursor.execute(select_record,221)\n",
    "rowcount = cursor.fetchone()[0]\n",
    "\n",
    "print (rowcount)"
   ]
  },
  {
   "cell_type": "code",
   "execution_count": null,
   "metadata": {},
   "outputs": [],
   "source": [
    "<form class=\"form-inline\" enctype=\"multipart/form-data\" action=\"/video\" method=\"POST\">\n",
    "\t        <label><b>Video: &nbsp;&nbsp; </b></label>\n",
    "\t\t\t<input accept=\"video/mp4,video/x-m4v,video/*\" type=\"file\" class=\"figure-img img-fluid rounded\" name=\"video\">\n",
    "\t\t\t<input type=\"text\" name=\"keyword\">\n",
    "\t        <button type=\"submit\" class=\"btn btn-primary\"> Submit</button>\n",
    "\t\t</form>"
   ]
  }
 ],
 "metadata": {
  "kernelspec": {
   "display_name": "Python 3",
   "language": "python",
   "name": "python3"
  },
  "language_info": {
   "codemirror_mode": {
    "name": "ipython",
    "version": 3
   },
   "file_extension": ".py",
   "mimetype": "text/x-python",
   "name": "python",
   "nbconvert_exporter": "python",
   "pygments_lexer": "ipython3",
   "version": "3.7.6"
  }
 },
 "nbformat": 4,
 "nbformat_minor": 4
}
